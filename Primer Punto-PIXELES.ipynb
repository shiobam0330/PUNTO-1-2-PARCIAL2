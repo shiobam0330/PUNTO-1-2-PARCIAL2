{
 "cells": [
  {
   "cell_type": "markdown",
   "id": "01179e4f-64ee-48ad-b645-520eebcf4c4e",
   "metadata": {},
   "source": [
    "# Primer punto, Parcial 2\n",
    "## Valentina Espitia\n",
    "## Miguel García"
   ]
  },
  {
   "cell_type": "markdown",
   "id": "8870534f-3ff0-44d6-bde8-ad099f4111a4",
   "metadata": {},
   "source": [
    "### a) Convolución"
   ]
  },
  {
   "cell_type": "code",
   "execution_count": 1,
   "id": "3019379a-214b-4f1e-9361-945d486d2b9f",
   "metadata": {},
   "outputs": [],
   "source": [
    "import pandas as pd\n",
    "import numpy as np"
   ]
  },
  {
   "cell_type": "code",
   "execution_count": 17,
   "id": "fd0c4a70-89e3-4c71-bd4f-f32ae14ef36c",
   "metadata": {},
   "outputs": [
    {
     "data": {
      "text/plain": [
       "array([[0, 0, 1, 0, 0, 0],\n",
       "       [0, 1, 1, 0, 0, 0],\n",
       "       [0, 0, 1, 0, 0, 0],\n",
       "       [0, 0, 1, 0, 0, 0],\n",
       "       [0, 1, 1, 1, 0, 0],\n",
       "       [0, 0, 0, 0, 0, 0]], dtype=int64)"
      ]
     },
     "execution_count": 17,
     "metadata": {},
     "output_type": "execute_result"
    }
   ],
   "source": [
    "#path = \"C:/Users/MCS/OneDrive - Universidad Santo Tomás/Inteligencia Artificial/Codigos Propios/PARCIAL 2 CORTE/\"\n",
    "path = \"D:/Downloads/INTELIGENCIA ARTIFICIAL/PARCIAL 2/\"\n",
    "imagen = pd.read_excel(path+\"pixeles.xlsx\", header=None)\n",
    "imagen = imagen.values\n",
    "imagen"
   ]
  },
  {
   "cell_type": "code",
   "execution_count": 18,
   "id": "ce09f45e-8e75-4ac4-8b1d-77e3a90a6208",
   "metadata": {},
   "outputs": [],
   "source": [
    "def convolucion(mat_orig, kernel):\n",
    "    if kernel == \"Vertical\":\n",
    "        Kernel = np.array([[1,0,1],[1,0,1],[1,0,1]])\n",
    "    elif kernel == \"Horizontal\":\n",
    "        Kernel = np.array([[1,1,1],[0,0,0],[1,1,1]])\n",
    "    # Filas resultado --- ((Filas_orig - Filas_kernel)/stride(Saltos)) + 1, si es decimal se redondea hacia abajo.\n",
    "    # Columnas resultado --- ((Col_orig - Col_kernel)/stride(Saltos)) + 1, si es decimal se redondea hacia abajo.\n",
    "    filas = ((mat_orig.shape[0] - Kernel.shape[0])/1) + 1\n",
    "    columnas = ((mat_orig.shape[1] - Kernel.shape[1])/1) + 1\n",
    "    resultado = np.zeros([int(filas),int(columnas)])\n",
    "    for k in range(resultado.shape[0]):\n",
    "        for i in range(resultado.shape[1]):\n",
    "            resultado[k,i] = (Kernel * mat_orig[(k+0):(3+k),(0+i):(3+i)]).sum()\n",
    "    return resultado"
   ]
  },
  {
   "cell_type": "code",
   "execution_count": 19,
   "id": "a86e71ba-4f56-4610-9968-9ef3d97c52de",
   "metadata": {},
   "outputs": [
    {
     "data": {
      "text/plain": [
       "array([[3., 1., 3., 0.],\n",
       "       [3., 1., 3., 0.],\n",
       "       [3., 2., 3., 1.],\n",
       "       [2., 2., 2., 1.]])"
      ]
     },
     "execution_count": 19,
     "metadata": {},
     "output_type": "execute_result"
    }
   ],
   "source": [
    "convolucion(imagen, kernel = \"Vertical\")"
   ]
  },
  {
   "cell_type": "code",
   "execution_count": 20,
   "id": "716a7cc8-55b6-4b7b-85aa-2643dbd3d41a",
   "metadata": {},
   "outputs": [
    {
     "data": {
      "text/plain": [
       "array([[2., 2., 2., 0.],\n",
       "       [3., 3., 2., 0.],\n",
       "       [3., 4., 3., 1.],\n",
       "       [1., 1., 1., 0.]])"
      ]
     },
     "execution_count": 20,
     "metadata": {},
     "output_type": "execute_result"
    }
   ],
   "source": [
    "convolucion(imagen, kernel = \"Horizontal\")"
   ]
  },
  {
   "cell_type": "markdown",
   "id": "eaa60ce4-9872-41b7-874e-e865cbfc75c3",
   "metadata": {},
   "source": [
    "### b) Padding"
   ]
  },
  {
   "cell_type": "code",
   "execution_count": 21,
   "id": "31b12471-fd17-426e-a859-6f5b092cabe0",
   "metadata": {},
   "outputs": [],
   "source": [
    "def padding(mat_orig, n_pad):\n",
    "    paddin_col = np.zeros([mat_orig.shape[0],n_pad])\n",
    "    imagen_pad = np.concatenate((mat_orig, paddin_col), axis = 1)\n",
    "    \n",
    "    paddin_fil = np.zeros([n_pad,imagen_pad.shape[1]])\n",
    "    imagen_pad = np.concatenate((imagen_pad, paddin_fil), axis = 0)\n",
    "    \n",
    "    paddin_col = np.zeros([imagen_pad.shape[0],n_pad])\n",
    "    imagen_pad = np.concatenate((paddin_col,imagen_pad), axis = 1)\n",
    "    \n",
    "    paddin_fil = np.zeros([n_pad,imagen_pad.shape[1]])\n",
    "    imagen_pad = np.concatenate((paddin_fil,imagen_pad), axis = 0)\n",
    "    return imagen_pad"
   ]
  },
  {
   "cell_type": "code",
   "execution_count": 26,
   "id": "71955ae0-14e4-4bd6-b2dd-7c26f004bf6f",
   "metadata": {},
   "outputs": [
    {
     "data": {
      "text/plain": [
       "array([[0., 0., 0., 0., 0., 0., 0., 0.],\n",
       "       [0., 0., 0., 1., 0., 0., 0., 0.],\n",
       "       [0., 0., 1., 1., 0., 0., 0., 0.],\n",
       "       [0., 0., 0., 1., 0., 0., 0., 0.],\n",
       "       [0., 0., 0., 1., 0., 0., 0., 0.],\n",
       "       [0., 0., 1., 1., 1., 0., 0., 0.],\n",
       "       [0., 0., 0., 0., 0., 0., 0., 0.],\n",
       "       [0., 0., 0., 0., 0., 0., 0., 0.]])"
      ]
     },
     "execution_count": 26,
     "metadata": {},
     "output_type": "execute_result"
    }
   ],
   "source": [
    "imagen_pad = padding(imagen,1)\n",
    "imagen_pad"
   ]
  },
  {
   "cell_type": "markdown",
   "id": "707776b5-dedd-47aa-b790-965c8ab895a0",
   "metadata": {},
   "source": [
    "### c) Stride"
   ]
  },
  {
   "cell_type": "code",
   "execution_count": 27,
   "id": "8e5d2597-b9a2-48cd-a3aa-1c195949648f",
   "metadata": {},
   "outputs": [],
   "source": [
    "def stride(mat_orig, kernel, saltos):\n",
    "    if kernel == \"Vertical\":\n",
    "        Kernel = np.array([[1,0,1],[1,0,1],[1,0,1]])\n",
    "    elif kernel == \"Horizontal\":\n",
    "        Kernel = np.array([[1,1,1],[0,0,0],[1,1,1]])\n",
    "    \n",
    "    filas = ((mat_orig.shape[0] - Kernel.shape[0])/saltos) + 1\n",
    "    columnas = ((mat_orig.shape[1] - Kernel.shape[1])/saltos) + 1\n",
    "    resultado = np.zeros([int(filas),int(columnas)])\n",
    "        \n",
    "    for k in range(resultado.shape[0]):\n",
    "        for i in range(resultado.shape[1]):\n",
    "            resultado[k,i] = (Kernel * mat_orig[(saltos*k+0):(3+saltos*k),(0+saltos*i):(3+saltos*i)]).sum()\n",
    "    return resultado"
   ]
  },
  {
   "cell_type": "code",
   "execution_count": 31,
   "id": "c4047a4d-9f65-42a5-a15f-dea4aa4b514c",
   "metadata": {},
   "outputs": [],
   "source": [
    "result_1 = stride(imagen, \"Vertical\", 2)\n",
    "result_2 = stride(imagen, \"Horizontal\", 2)"
   ]
  },
  {
   "cell_type": "code",
   "execution_count": 29,
   "id": "354575f6-4a03-42ea-baaa-8343be3d0dde",
   "metadata": {},
   "outputs": [
    {
     "name": "stdout",
     "output_type": "stream",
     "text": [
      "Para detectar bordes verticales con 2 saltos es: [[3. 3.]\n",
      " [3. 3.]]\n",
      "Para detectar bordes horizontales con 2 saltos es: [[2. 2.]\n",
      " [3. 3.]]\n"
     ]
    }
   ],
   "source": [
    "print(f\"Para detectar bordes verticales con 2 saltos es: {result_1}\")\n",
    "print(f\"Para detectar bordes horizontales con 2 saltos es: {result_2}\")"
   ]
  },
  {
   "cell_type": "markdown",
   "id": "b92b0e02-20ac-4b64-a581-f1eb832e70f2",
   "metadata": {},
   "source": [
    "### d) Stacking"
   ]
  },
  {
   "cell_type": "code",
   "execution_count": 99,
   "id": "f3903e1d-f414-4d47-a742-e417b2cb6d05",
   "metadata": {},
   "outputs": [],
   "source": [
    "def stacking(mat_orig, n_mapas):\n",
    "    mapas = []\n",
    "    for _ in range(n_mapas):\n",
    "        tipo = np.random.choice(['horizontal', 'vertical'])\n",
    "        kernel = np.zeros((3, 3))\n",
    "        if tipo == 'horizontal':\n",
    "            kernel[0, :] = np.random.randint(1, 5, 3)\n",
    "            kernel[2, :] = np.random.randint(1, 5, 3)\n",
    "        else:\n",
    "            kernel[:, 0] = np.random.randint(1, 5, 3) \n",
    "            kernel[:, 2] = np.random.randint(1, 5, 3)\n",
    "        \n",
    "        filas = (mat_orig.shape[0] - kernel.shape[0]) + 1\n",
    "        columnas = (mat_orig.shape[1] - kernel.shape[1]) + 1\n",
    "        resultado = np.zeros((filas, columnas))\n",
    "    \n",
    "        for k in range(filas):\n",
    "            for i in range(columnas):\n",
    "                matriz = mat_orig[k:k + kernel.shape[0], i:i + kernel.shape[1]]\n",
    "                resultado[k, i] = (kernel * matriz).sum()\n",
    "        \n",
    "        mapas.append(resultado)\n",
    "    \n",
    "    return np.array(mapas)"
   ]
  },
  {
   "cell_type": "code",
   "execution_count": 100,
   "id": "db926604-cc8b-4bea-9969-8bf731671475",
   "metadata": {},
   "outputs": [
    {
     "name": "stdout",
     "output_type": "stream",
     "text": [
      "Mapa de características 1:\n",
      "[[ 5.  4. 11.  0.]\n",
      " [ 5.  3. 11.  0.]\n",
      " [ 5.  5. 11.  4.]\n",
      " [ 4.  6.  7.  4.]]\n",
      "\n",
      "Mapa de características 2:\n",
      "[[9. 2. 7. 0.]\n",
      " [9. 2. 7. 0.]\n",
      " [9. 4. 7. 3.]\n",
      " [8. 6. 4. 2.]]\n",
      "\n",
      "Mapa de características 3:\n",
      "[[6. 1. 3. 0.]\n",
      " [6. 1. 3. 0.]\n",
      " [6. 2. 3. 1.]\n",
      " [5. 4. 2. 1.]]\n",
      "\n",
      "Mapa de características 4:\n",
      "[[6. 3. 5. 0.]\n",
      " [7. 4. 5. 0.]\n",
      " [8. 9. 7. 4.]\n",
      " [4. 1. 1. 0.]]\n",
      "\n",
      "Mapa de características 5:\n",
      "[[8. 3. 7. 0.]\n",
      " [8. 3. 7. 0.]\n",
      " [8. 3. 7. 1.]\n",
      " [6. 7. 6. 3.]]\n",
      "\n",
      "Mapa de características 6:\n",
      "[[ 6.  6.  7.  0.]\n",
      " [ 8.  9.  7.  0.]\n",
      " [10. 13. 11.  4.]\n",
      " [ 3.  2.  3.  0.]]\n",
      "\n"
     ]
    }
   ],
   "source": [
    "mapas = stacking(imagen,6)\n",
    "for i, mapa in enumerate(mapas):\n",
    "    print(f\"Mapa de características {i + 1}:\\n{mapa}\\n\")"
   ]
  },
  {
   "cell_type": "markdown",
   "id": "b2a7d714-d659-4c75-86a8-da55adea28a4",
   "metadata": {},
   "source": [
    "### e) Max Pooling"
   ]
  },
  {
   "cell_type": "code",
   "execution_count": 116,
   "id": "4e1cce9b-a2f0-400c-bc3d-8711d7639d5f",
   "metadata": {},
   "outputs": [],
   "source": [
    "def max_pooling(mat_orig, saltos):\n",
    "    kernel = 2\n",
    "    filas = (mat_orig.shape[0] - kernel) // saltos + 1\n",
    "    columnas = (mat_orig.shape[1] - kernel) // saltos + 1\n",
    "    resultado = np.zeros((filas, columnas))\n",
    "    \n",
    "    for k in range(filas):\n",
    "        for i in range(columnas):\n",
    "            matriz = mat_orig[k * saltos:k * saltos + kernel, i * saltos:i * saltos + kernel]\n",
    "            resultado[k, i] = np.max(matriz)\n",
    "    \n",
    "    return resultado\n"
   ]
  },
  {
   "cell_type": "code",
   "execution_count": 117,
   "id": "9ac0e604-5c88-49dd-9973-45209f1b7fe3",
   "metadata": {},
   "outputs": [
    {
     "data": {
      "text/plain": [
       "array([[1., 0.],\n",
       "       [1., 1.]])"
      ]
     },
     "execution_count": 117,
     "metadata": {},
     "output_type": "execute_result"
    }
   ],
   "source": [
    "max_pooling(imagen,3)"
   ]
  },
  {
   "cell_type": "code",
   "execution_count": null,
   "id": "9ec82260-96c8-4961-a043-29ecbd054aa5",
   "metadata": {},
   "outputs": [],
   "source": []
  }
 ],
 "metadata": {
  "kernelspec": {
   "display_name": "Python 3 (ipykernel)",
   "language": "python",
   "name": "python3"
  },
  "language_info": {
   "codemirror_mode": {
    "name": "ipython",
    "version": 3
   },
   "file_extension": ".py",
   "mimetype": "text/x-python",
   "name": "python",
   "nbconvert_exporter": "python",
   "pygments_lexer": "ipython3",
   "version": "3.10.11"
  }
 },
 "nbformat": 4,
 "nbformat_minor": 5
}
